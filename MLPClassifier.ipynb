{
  "nbformat": 4,
  "nbformat_minor": 0,
  "metadata": {
    "colab": {
      "provenance": [],
      "authorship_tag": "ABX9TyNJn8umXKpH1MnJga0xBbNT"
    },
    "kernelspec": {
      "name": "python3",
      "display_name": "Python 3"
    },
    "language_info": {
      "name": "python"
    }
  },
  "cells": [
    {
      "cell_type": "code",
      "execution_count": 3,
      "metadata": {
        "colab": {
          "base_uri": "https://localhost:8080/"
        },
        "id": "NGfsfLvYjliE",
        "outputId": "7da41f4a-5540-4d27-9dd3-340b3ad93ff2"
      },
      "outputs": [
        {
          "output_type": "stream",
          "name": "stdout",
          "text": [
            "   satisfaction_level  last_evaluation  number_project  average_montly_hours  \\\n",
            "0                0.38             0.53               2                   157   \n",
            "1                0.80             0.86               5                   262   \n",
            "2                0.11             0.88               7                   272   \n",
            "3                0.72             0.87               5                   223   \n",
            "4                0.37             0.52               2                   159   \n",
            "\n",
            "   time_spend_company  Work_accident  left  promotion_last_5years Departments  \\\n",
            "0                   3              0     1                      0       sales   \n",
            "1                   6              0     1                      0       sales   \n",
            "2                   4              0     1                      0       sales   \n",
            "3                   5              0     1                      0       sales   \n",
            "4                   3              0     1                      0       sales   \n",
            "\n",
            "   salary  \n",
            "0     low  \n",
            "1  medium  \n",
            "2  medium  \n",
            "3     low  \n",
            "4     low   \n",
            "\n",
            "0          sales\n",
            "1          sales\n",
            "2          sales\n",
            "3          sales\n",
            "4          sales\n",
            "          ...   \n",
            "14994    support\n",
            "14995    support\n",
            "14996    support\n",
            "14997    support\n",
            "14998    support\n",
            "Name: Departments, Length: 14999, dtype: object \n",
            "\n"
          ]
        }
      ],
      "source": [
        "import pandas as pd\n",
        "\n",
        "df = pd.read_csv(\"/content/HR_comma_sep.csv\")\n",
        "\n",
        "print(df.head(5),'\\n')\n",
        "\n",
        "print(df['Departments'],'\\n')\n",
        "\n"
      ]
    },
    {
      "cell_type": "code",
      "source": [
        "from sklearn import preprocessing\n",
        "le = preprocessing.LabelEncoder()\n",
        "print(le,'\\n')\n",
        "\n",
        "df['salary']=le.fit_transform(df['salary'])\n",
        "df['Departments']=le.fit_transform(df['Departments'])\n",
        "\n",
        "print(df['salary'],'\\n')\n",
        "\n"
      ],
      "metadata": {
        "colab": {
          "base_uri": "https://localhost:8080/"
        },
        "id": "K7JYuWj_kBY3",
        "outputId": "13a5aa37-7cd2-480a-d20a-72829e9c4de6"
      },
      "execution_count": 4,
      "outputs": [
        {
          "output_type": "stream",
          "name": "stdout",
          "text": [
            "LabelEncoder() \n",
            "\n",
            "0        1\n",
            "1        2\n",
            "2        2\n",
            "3        1\n",
            "4        1\n",
            "        ..\n",
            "14994    1\n",
            "14995    1\n",
            "14996    1\n",
            "14997    1\n",
            "14998    1\n",
            "Name: salary, Length: 14999, dtype: int64 \n",
            "\n"
          ]
        }
      ]
    },
    {
      "cell_type": "code",
      "source": [
        "X=df\n",
        "y=df.left\n",
        "\n",
        "from sklearn.model_selection import train_test_split\n",
        "X_train,X_test,y_train,y_test = train_test_split(X,y,test_size=0.3,random_state=42)\n",
        "\n",
        "print(X_train,'\\n')\n",
        "print(y_train,'\\n')\n",
        "\n"
      ],
      "metadata": {
        "colab": {
          "base_uri": "https://localhost:8080/"
        },
        "id": "47VS-HTwkFeV",
        "outputId": "d7cc038c-cfba-46f2-e133-e62ed9d5986b"
      },
      "execution_count": 5,
      "outputs": [
        {
          "output_type": "stream",
          "name": "stdout",
          "text": [
            "       satisfaction_level  last_evaluation  number_project  \\\n",
            "12602                0.10             0.84               7   \n",
            "4889                 0.57             0.68               4   \n",
            "1572                 0.39             0.48               2   \n",
            "13375                0.91             0.68               4   \n",
            "879                  0.82             0.97               5   \n",
            "...                   ...              ...             ...   \n",
            "5191                 0.52             0.96               4   \n",
            "13418                0.49             0.65               4   \n",
            "5390                 0.66             0.73               5   \n",
            "860                  0.79             1.00               4   \n",
            "7270                 0.98             0.86               2   \n",
            "\n",
            "       average_montly_hours  time_spend_company  Work_accident  left  \\\n",
            "12602                   250                   4              0     1   \n",
            "4889                    154                   3              1     0   \n",
            "1572                    154                   3              0     1   \n",
            "13375                   132                   4              0     0   \n",
            "879                     263                   5              0     1   \n",
            "...                     ...                 ...            ...   ...   \n",
            "5191                    246                   3              0     0   \n",
            "13418                   233                   7              0     0   \n",
            "5390                    249                   2              0     0   \n",
            "860                     218                   5              0     1   \n",
            "7270                    219                   4              0     0   \n",
            "\n",
            "       promotion_last_5years  Departments  salary  \n",
            "12602                      0            6       1  \n",
            "4889                       0            4       2  \n",
            "1572                       0            9       1  \n",
            "13375                      0            0       2  \n",
            "879                        0            9       2  \n",
            "...                      ...          ...     ...  \n",
            "5191                       0            8       1  \n",
            "13418                      0            7       2  \n",
            "5390                       0            8       2  \n",
            "860                        0            7       1  \n",
            "7270                       0            7       1  \n",
            "\n",
            "[10499 rows x 10 columns] \n",
            "\n",
            "12602    1\n",
            "4889     0\n",
            "1572     1\n",
            "13375    0\n",
            "879      1\n",
            "        ..\n",
            "5191     0\n",
            "13418    0\n",
            "5390     0\n",
            "860      1\n",
            "7270     0\n",
            "Name: left, Length: 10499, dtype: int64 \n",
            "\n"
          ]
        }
      ]
    },
    {
      "cell_type": "code",
      "source": [
        "from sklearn.neural_network import MLPClassifier\n",
        "\n",
        "clf = MLPClassifier(hidden_layer_sizes=(6,5),random_state=5,verbose=True,learning_rate_init=0.01)\n",
        "\n",
        "print(clf.fit(X_train,y_train),'\\n')\n",
        "\n",
        "ypred=clf.predict(X_test)\n",
        "\n",
        "from sklearn.metrics import accuracy_score\n",
        "print(accuracy_score(y_test,ypred))\n"
      ],
      "metadata": {
        "colab": {
          "base_uri": "https://localhost:8080/"
        },
        "id": "OdFEWRM4kHvf",
        "outputId": "aece2426-852a-43c6-a599-b6f8121b2dab"
      },
      "execution_count": 6,
      "outputs": [
        {
          "output_type": "stream",
          "name": "stdout",
          "text": [
            "Iteration 1, loss = 0.58342989\n",
            "Iteration 2, loss = 0.54196816\n",
            "Iteration 3, loss = 0.48343040\n",
            "Iteration 4, loss = 0.16334039\n",
            "Iteration 5, loss = 0.00632175\n",
            "Iteration 6, loss = 0.00204429\n",
            "Iteration 7, loss = 0.00104729\n",
            "Iteration 8, loss = 0.00065463\n",
            "Iteration 9, loss = 0.00068324\n",
            "Iteration 10, loss = 0.00037160\n",
            "Iteration 11, loss = 0.00033577\n",
            "Iteration 12, loss = 0.00019714\n",
            "Iteration 13, loss = 0.00017238\n",
            "Iteration 14, loss = 0.00016613\n",
            "Iteration 15, loss = 0.00012547\n",
            "Iteration 16, loss = 0.00010071\n",
            "Iteration 17, loss = 0.00010136\n",
            "Iteration 18, loss = 0.00009617\n",
            "Iteration 19, loss = 0.00008077\n",
            "Iteration 20, loss = 0.00008429\n",
            "Iteration 21, loss = 0.00007297\n",
            "Iteration 22, loss = 0.00006455\n",
            "Iteration 23, loss = 0.00006027\n",
            "Training loss did not improve more than tol=0.000100 for 10 consecutive epochs. Stopping.\n",
            "MLPClassifier(hidden_layer_sizes=(6, 5), learning_rate_init=0.01,\n",
            "              random_state=5, verbose=True) \n",
            "\n",
            "1.0\n"
          ]
        }
      ]
    }
  ]
}